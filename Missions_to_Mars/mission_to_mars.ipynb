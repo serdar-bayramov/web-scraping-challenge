{
 "cells": [
  {
   "cell_type": "code",
   "execution_count": 54,
   "id": "d4655984",
   "metadata": {},
   "outputs": [],
   "source": [
    "from bs4 import BeautifulSoup\n",
    "from splinter import Browser\n",
    "from pprint import pprint\n",
    "import pymongo\n",
    "import pandas as pd\n",
    "import requests\n",
    "from webdriver_manager.firefox import GeckoDriverManager"
   ]
  },
  {
   "cell_type": "code",
   "execution_count": 65,
   "id": "f96f1ffb",
   "metadata": {},
   "outputs": [
    {
     "name": "stderr",
     "output_type": "stream",
     "text": [
      "\n",
      "\n",
      "====== WebDriver manager ======\n",
      "Current firefox version is 93.0\n",
      "Get LATEST driver version for 93.0\n",
      "Driver [C:\\Users\\User\\.wdm\\drivers\\geckodriver\\win64\\v0.30.0\\geckodriver.exe] found in cache\n"
     ]
    }
   ],
   "source": [
    "browser = Browser('firefox', executable_path=GeckoDriverManager().install(), headless=False)"
   ]
  },
  {
   "cell_type": "code",
   "execution_count": 66,
   "id": "c5f5ce12",
   "metadata": {},
   "outputs": [],
   "source": [
    "news_url = 'https://redplanetscience.com/'\n",
    "image_url = 'https://spaceimages-mars.com'\n",
    "mars_url = 'https://galaxyfacts-mars.com'\n",
    "hem_url = 'https://marshemispheres.com/'"
   ]
  },
  {
   "cell_type": "code",
   "execution_count": 4,
   "id": "dc7d5369",
   "metadata": {},
   "outputs": [
    {
     "name": "stdout",
     "output_type": "stream",
     "text": [
      "Deadline Closing for Names to Fly on NASA's Next Mars Rover\n",
      "-----\n",
      "Celebrate Mars Reconnaissance Orbiter's Views From Above\n",
      "-----\n",
      "Follow NASA's Perseverance Rover in Real Time on Its Way to Mars\n",
      "-----\n",
      "How NASA's Mars Helicopter Will Reach the Red Planet's Surface\n",
      "-----\n",
      "NASA's Perseverance Rover Goes Through Trials by Fire, Ice, Light and Sound\n",
      "-----\n",
      "Media Get a Close-Up of NASA's Mars 2020 Rover\n",
      "-----\n",
      "NASA's InSight 'Hears' Peculiar Sounds on Mars\n",
      "-----\n",
      "NASA-JPL Names 'Rolling Stones Rock' on Mars\n",
      "-----\n",
      "My Culture, My Voice\n",
      "-----\n",
      "Mars 2020 Unwrapped and Ready for More Testing\n",
      "-----\n",
      "NASA's Perseverance Rover Will Carry First Spacesuit Materials to Mars\n",
      "-----\n",
      "InSight's 'Mole' Team Peers into the Pit\n",
      "-----\n",
      "10.9 Million Names Now Aboard NASA's Perseverance Mars Rover\n",
      "-----\n",
      "NASA's Push to Save the Mars InSight Lander's Heat Probe\n",
      "-----\n",
      "3 Things We've Learned From NASA's Mars InSight \n",
      "-----\n"
     ]
    }
   ],
   "source": [
    "browser.visit(news_url)\n",
    "news_html = browser.html\n",
    "\n",
    "# Create BeautifulSoup object and parse with 'html.parser'\n",
    "news_soup = BeautifulSoup(news_html,'html.parser')\n",
    "titles = news_soup.find_all('div', class_='content_title')\n",
    "for title in titles:\n",
    "    try:\n",
    "        print(title.text)\n",
    "        print('-----')\n",
    "    except AttributeError as e:\n",
    "        print(e)"
   ]
  },
  {
   "cell_type": "code",
   "execution_count": 5,
   "id": "107255d4",
   "metadata": {},
   "outputs": [
    {
     "data": {
      "text/plain": [
       "\"Deadline Closing for Names to Fly on NASA's Next Mars Rover\""
      ]
     },
     "execution_count": 5,
     "metadata": {},
     "output_type": "execute_result"
    }
   ],
   "source": [
    "news_title = titles[0].text\n",
    "news_title"
   ]
  },
  {
   "cell_type": "code",
   "execution_count": 6,
   "id": "e90fe47e",
   "metadata": {},
   "outputs": [
    {
     "name": "stdout",
     "output_type": "stream",
     "text": [
      "You have until Sept. 30 to send your names to Mars aboard the Mars 2020 rover. \n",
      "-----\n",
      "Marking its 15th anniversary since launch, one of the oldest spacecraft at the Red Planet has provided glimpses of dust devils, avalanches, and more.\n",
      "-----\n",
      "A crisply rendered web application can show you where the agency's Mars 2020 mission is right now as it makes its way to the Red Planet for a Feb. 18, 2021, landing.\n",
      "-----\n",
      "The small craft will seek to prove that powered, controlled flight is possible on another planet. But just getting it onto the surface of Mars will take a whole lot of ingenuity.\n",
      "-----\n",
      "The agency's new Mars rover is put through a series of tests in vacuum chambers, acoustic chambers and more to get ready for the Red Planet.\n",
      "-----\n",
      "The clean room at NASA's Jet Propulsion Laboratory was open to the media to see NASA's next Mars explorer before it leaves for Florida in preparation for a summertime launch.\n",
      "-----\n",
      "Listen to the marsquakes and other, less-expected sounds that the Mars lander has been detecting.\n",
      "-----\n",
      "NASA's Mars InSight mission honored one of the biggest bands of all time at Pasadena concert.\n",
      "-----\n",
      "In honor of Hispanic Heritage Month, Christina Hernandez, an instrument engineer on the Mars 2020 mission, talks about her childhood and journey to NASA.\n",
      "-----\n",
      "In time-lapse video, bunny-suited engineers remove the inner layer of protective foil on NASA's Mars 2020 rover after it was relocated for testing.\n",
      "-----\n",
      "In a Q&A, spacesuit designer Amy Ross explains how five samples, including a piece of helmet visor, will be tested aboard the rover, which is targeting a July 30 launch. \n",
      "-----\n",
      "Efforts to save the heat probe continue.\n",
      "-----\n",
      "As part of NASA's 'Send Your Name to Mars' campaign, they've been stenciled onto three microchips along with essays from NASA's 'Name the Rover' contest. Next stop: Mars.\n",
      "-----\n",
      "The scoop on the end of the spacecraft's robotic arm will be used to 'pin' the mole against the wall of its hole.\n",
      "-----\n",
      "Scientists are finding new mysteries since the geophysics mission landed two years ago.\n",
      "-----\n"
     ]
    }
   ],
   "source": [
    "#get all paragraphs\n",
    "paragraphs = news_soup.find_all('div', class_='article_teaser_body')\n",
    "for par in paragraphs:\n",
    "    try:\n",
    "        print(par.text)\n",
    "        print('-----')\n",
    "    except AttributeError as e:\n",
    "        print(e)"
   ]
  },
  {
   "cell_type": "code",
   "execution_count": 7,
   "id": "4faa7330",
   "metadata": {},
   "outputs": [
    {
     "data": {
      "text/plain": [
       "'You have until Sept. 30 to send your names to Mars aboard the Mars 2020 rover. '"
      ]
     },
     "execution_count": 7,
     "metadata": {},
     "output_type": "execute_result"
    }
   ],
   "source": [
    "news_p = paragraphs[0].text\n",
    "news_p"
   ]
  },
  {
   "cell_type": "markdown",
   "id": "c4a6a8d3",
   "metadata": {},
   "source": [
    "### JPL Mars Space Images - Featured Image"
   ]
  },
  {
   "cell_type": "code",
   "execution_count": 21,
   "id": "5b5a1f8f",
   "metadata": {},
   "outputs": [],
   "source": [
    "browser.visit(image_url)\n",
    "image_html = browser.html"
   ]
  },
  {
   "cell_type": "code",
   "execution_count": 75,
   "id": "49623da4",
   "metadata": {},
   "outputs": [
    {
     "data": {
      "text/plain": [
       "'https://spaceimages-mars.com/image/mars/Icaria Fossae7.jpg'"
      ]
     },
     "execution_count": 75,
     "metadata": {},
     "output_type": "execute_result"
    }
   ],
   "source": [
    "browser.visit(image_url)\n",
    "# Create BeautifulSoup object and parse with 'html.parser'\n",
    "image_soup = BeautifulSoup(image_html, 'html.parser')\n",
    "image = image_soup.find(\"img\", class_=\"thumbimg\")[\"src\"]\n",
    "featured_img_url = image_url + \"/\" + image\n",
    "featured_img_url"
   ]
  },
  {
   "cell_type": "markdown",
   "id": "49cbcf99",
   "metadata": {},
   "source": [
    "### Mars Facts"
   ]
  },
  {
   "cell_type": "code",
   "execution_count": 58,
   "id": "82304d9f",
   "metadata": {},
   "outputs": [
    {
     "data": {
      "text/html": [
       "<div>\n",
       "<style scoped>\n",
       "    .dataframe tbody tr th:only-of-type {\n",
       "        vertical-align: middle;\n",
       "    }\n",
       "\n",
       "    .dataframe tbody tr th {\n",
       "        vertical-align: top;\n",
       "    }\n",
       "\n",
       "    .dataframe thead th {\n",
       "        text-align: right;\n",
       "    }\n",
       "</style>\n",
       "<table border=\"1\" class=\"dataframe\">\n",
       "  <thead>\n",
       "    <tr style=\"text-align: right;\">\n",
       "      <th></th>\n",
       "      <th>Description</th>\n",
       "      <th>Data values</th>\n",
       "    </tr>\n",
       "  </thead>\n",
       "  <tbody>\n",
       "    <tr>\n",
       "      <th>0</th>\n",
       "      <td>Equatorial Diameter:</td>\n",
       "      <td>6,792 km</td>\n",
       "    </tr>\n",
       "    <tr>\n",
       "      <th>1</th>\n",
       "      <td>Polar Diameter:</td>\n",
       "      <td>6,752 km</td>\n",
       "    </tr>\n",
       "    <tr>\n",
       "      <th>2</th>\n",
       "      <td>Mass:</td>\n",
       "      <td>6.39 × 10^23 kg (0.11 Earths)</td>\n",
       "    </tr>\n",
       "    <tr>\n",
       "      <th>3</th>\n",
       "      <td>Moons:</td>\n",
       "      <td>2 ( Phobos &amp; Deimos )</td>\n",
       "    </tr>\n",
       "    <tr>\n",
       "      <th>4</th>\n",
       "      <td>Orbit Distance:</td>\n",
       "      <td>227,943,824 km (1.38 AU)</td>\n",
       "    </tr>\n",
       "    <tr>\n",
       "      <th>5</th>\n",
       "      <td>Orbit Period:</td>\n",
       "      <td>687 days (1.9 years)</td>\n",
       "    </tr>\n",
       "    <tr>\n",
       "      <th>6</th>\n",
       "      <td>Surface Temperature:</td>\n",
       "      <td>-87 to -5 °C</td>\n",
       "    </tr>\n",
       "    <tr>\n",
       "      <th>7</th>\n",
       "      <td>First Record:</td>\n",
       "      <td>2nd millennium BC</td>\n",
       "    </tr>\n",
       "    <tr>\n",
       "      <th>8</th>\n",
       "      <td>Recorded By:</td>\n",
       "      <td>Egyptian astronomers</td>\n",
       "    </tr>\n",
       "  </tbody>\n",
       "</table>\n",
       "</div>"
      ],
      "text/plain": [
       "            Description                    Data values\n",
       "0  Equatorial Diameter:                       6,792 km\n",
       "1       Polar Diameter:                       6,752 km\n",
       "2                 Mass:  6.39 × 10^23 kg (0.11 Earths)\n",
       "3                Moons:          2 ( Phobos & Deimos )\n",
       "4       Orbit Distance:       227,943,824 km (1.38 AU)\n",
       "5         Orbit Period:           687 days (1.9 years)\n",
       "6  Surface Temperature:                   -87 to -5 °C\n",
       "7         First Record:              2nd millennium BC\n",
       "8          Recorded By:           Egyptian astronomers"
      ]
     },
     "execution_count": 58,
     "metadata": {},
     "output_type": "execute_result"
    }
   ],
   "source": [
    "mars_tables = pd.read_html(mars_url)\n",
    "df = mars_tables[1]\n",
    "df.columns = ['Description','Data values']\n",
    "df"
   ]
  },
  {
   "cell_type": "code",
   "execution_count": 59,
   "id": "848edf56",
   "metadata": {},
   "outputs": [],
   "source": [
    "html_table = df.to_html()"
   ]
  },
  {
   "cell_type": "markdown",
   "id": "0587e662",
   "metadata": {},
   "source": [
    "### Mars Hemispheres"
   ]
  },
  {
   "cell_type": "code",
   "execution_count": 60,
   "id": "d74161e6",
   "metadata": {},
   "outputs": [
    {
     "data": {
      "text/plain": [
       "{'class': ['thumb'],\n",
       " 'src': 'images/39d3266553462198bd2fbc4d18fbed17_cerberus_enhanced.tif_thumb.png',\n",
       " 'alt': 'Cerberus Hemisphere Enhanced thumbnail'}"
      ]
     },
     "execution_count": 60,
     "metadata": {},
     "output_type": "execute_result"
    }
   ],
   "source": [
    "browser.visit(hem_url)\n",
    "hem_html = browser.html\n",
    "\n",
    "hem_soup = BeautifulSoup(hem_html,'html.parser')\n",
    "im_url = \"https://marshemispheres.com/images/39d3266553462198bd2fbc4d18fbed17_cerberus_enhanced.tif_thumb.png\"\n",
    "# title = hem_soup.find_all('div', class_='description')\n",
    "# title[0].text\n",
    "title = hem_soup.find_all('img',attrs={'class':'thumb'})\n",
    "title[0].attrs\n"
   ]
  },
  {
   "cell_type": "code",
   "execution_count": 61,
   "id": "c969f742",
   "metadata": {},
   "outputs": [
    {
     "data": {
      "text/plain": [
       "[{'title': 'Cerberus Hemisphere Enhanced thumbnail',\n",
       "  'imgs_url': 'https://marshemispheres.com/images/39d3266553462198bd2fbc4d18fbed17_cerberus_enhanced.tif_thumb.png'},\n",
       " {'title': 'Schiaparelli Hemisphere Enhanced thumbnail',\n",
       "  'imgs_url': 'https://marshemispheres.com/images/08eac6e22c07fb1fe72223a79252de20_schiaparelli_enhanced.tif_thumb.png'},\n",
       " {'title': 'Syrtis Major Hemisphere Enhanced thumbnail',\n",
       "  'imgs_url': 'https://marshemispheres.com/images/55a0a1e2796313fdeafb17c35925e8ac_syrtis_major_enhanced.tif_thumb.png'},\n",
       " {'title': 'Valles Marineris Hemisphere Enhanced thumbnail',\n",
       "  'imgs_url': 'https://marshemispheres.com/images/4e59980c1c57f89c680c0e1ccabbeff1_valles_marineris_enhanced.tif_thumb.png'}]"
      ]
     },
     "execution_count": 61,
     "metadata": {},
     "output_type": "execute_result"
    }
   ],
   "source": [
    "hem_list = []\n",
    "for i in title:\n",
    "    title = i.attrs['alt']\n",
    "    img_url = i.attrs['src']\n",
    "    hem_list.append({'title':title,'imgs_url': hem_url + img_url})\n",
    "hem_list\n"
   ]
  },
  {
   "cell_type": "code",
   "execution_count": 72,
   "id": "5b61d910",
   "metadata": {},
   "outputs": [
    {
     "data": {
      "text/plain": [
       "{'news_title': \"Deadline Closing for Names to Fly on NASA's Next Mars Rover\",\n",
       " 'news_p': 'You have until Sept. 30 to send your names to Mars aboard the Mars 2020 rover. ',\n",
       " 'featured_img_url': 'https://spaceimages-mars.com/image/mars/Icaria Fossae7.jpg',\n",
       " 'html_table': '<table border=\"1\" class=\"dataframe\">\\n  <thead>\\n    <tr style=\"text-align: right;\">\\n      <th></th>\\n      <th>Description</th>\\n      <th>Data values</th>\\n    </tr>\\n  </thead>\\n  <tbody>\\n    <tr>\\n      <th>0</th>\\n      <td>Equatorial Diameter:</td>\\n      <td>6,792 km</td>\\n    </tr>\\n    <tr>\\n      <th>1</th>\\n      <td>Polar Diameter:</td>\\n      <td>6,752 km</td>\\n    </tr>\\n    <tr>\\n      <th>2</th>\\n      <td>Mass:</td>\\n      <td>6.39 × 10^23 kg (0.11 Earths)</td>\\n    </tr>\\n    <tr>\\n      <th>3</th>\\n      <td>Moons:</td>\\n      <td>2 ( Phobos &amp; Deimos )</td>\\n    </tr>\\n    <tr>\\n      <th>4</th>\\n      <td>Orbit Distance:</td>\\n      <td>227,943,824 km (1.38 AU)</td>\\n    </tr>\\n    <tr>\\n      <th>5</th>\\n      <td>Orbit Period:</td>\\n      <td>687 days (1.9 years)</td>\\n    </tr>\\n    <tr>\\n      <th>6</th>\\n      <td>Surface Temperature:</td>\\n      <td>-87 to -5 °C</td>\\n    </tr>\\n    <tr>\\n      <th>7</th>\\n      <td>First Record:</td>\\n      <td>2nd millennium BC</td>\\n    </tr>\\n    <tr>\\n      <th>8</th>\\n      <td>Recorded By:</td>\\n      <td>Egyptian astronomers</td>\\n    </tr>\\n  </tbody>\\n</table>',\n",
       " 'hem_list': [{'title': 'Cerberus Hemisphere Enhanced thumbnail',\n",
       "   'imgs_url': 'https://marshemispheres.com/images/39d3266553462198bd2fbc4d18fbed17_cerberus_enhanced.tif_thumb.png'},\n",
       "  {'title': 'Schiaparelli Hemisphere Enhanced thumbnail',\n",
       "   'imgs_url': 'https://marshemispheres.com/images/08eac6e22c07fb1fe72223a79252de20_schiaparelli_enhanced.tif_thumb.png'},\n",
       "  {'title': 'Syrtis Major Hemisphere Enhanced thumbnail',\n",
       "   'imgs_url': 'https://marshemispheres.com/images/55a0a1e2796313fdeafb17c35925e8ac_syrtis_major_enhanced.tif_thumb.png'},\n",
       "  {'title': 'Valles Marineris Hemisphere Enhanced thumbnail',\n",
       "   'imgs_url': 'https://marshemispheres.com/images/4e59980c1c57f89c680c0e1ccabbeff1_valles_marineris_enhanced.tif_thumb.png'}]}"
      ]
     },
     "execution_count": 72,
     "metadata": {},
     "output_type": "execute_result"
    }
   ],
   "source": [
    "mars_dtb = {\n",
    "        'news_title':news_title,\n",
    "        'news_p':news_p,\n",
    "        'featured_img_url': featured_img_url,\n",
    "        'html_table': html_table,\n",
    "        'hem_list': hem_list}\n",
    "mars_dtb"
   ]
  },
  {
   "cell_type": "code",
   "execution_count": 15,
   "id": "dca79ce4",
   "metadata": {},
   "outputs": [],
   "source": [
    "browser.quit()"
   ]
  }
 ],
 "metadata": {
  "kernelspec": {
   "display_name": "Python 3",
   "language": "python",
   "name": "python3"
  },
  "language_info": {
   "codemirror_mode": {
    "name": "ipython",
    "version": 3
   },
   "file_extension": ".py",
   "mimetype": "text/x-python",
   "name": "python",
   "nbconvert_exporter": "python",
   "pygments_lexer": "ipython3",
   "version": "3.8.10"
  }
 },
 "nbformat": 4,
 "nbformat_minor": 5
}
